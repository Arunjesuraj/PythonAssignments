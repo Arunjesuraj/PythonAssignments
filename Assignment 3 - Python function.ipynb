{
 "cells": [
  {
   "cell_type": "markdown",
   "metadata": {},
   "source": [
    "## Problem Statement"
   ]
  },
  {
   "cell_type": "markdown",
   "metadata": {},
   "source": [
    "Q.1 Write a function to compute 5/0 and use try/except to catch the exceptions."
   ]
  },
  {
   "cell_type": "code",
   "execution_count": 43,
   "metadata": {
    "collapsed": false
   },
   "outputs": [],
   "source": [
    "'''class ZeroDivideError(Exception):\n",
    "   print('Divided by zero.Pls check divided value')\n",
    "   pass'''\n",
    "def findexcept(a,b):\n",
    "    try:\n",
    "        r = a/b\n",
    "        print('Value is',r)\n",
    "    except ZeroDivisionError:\n",
    "        print('Divided by zero.Pls check divided value')\n",
    "        #raise ZeroDivideError\n",
    "    except Exception:\n",
    "        print(\"Error occured.\")"
   ]
  },
  {
   "cell_type": "code",
   "execution_count": 44,
   "metadata": {
    "collapsed": false
   },
   "outputs": [
    {
     "name": "stdout",
     "output_type": "stream",
     "text": [
      "enter integer value8\n",
      "enter integer value0\n",
      "Divided by zero.Pls check divided value\n"
     ]
    }
   ],
   "source": [
    "a = int(input('enter integer value'))\n",
    "b = int(input('enter integer value'))\n",
    "findexcept(a,b)"
   ]
  },
  {
   "cell_type": "markdown",
   "metadata": {},
   "source": [
    "Q.2 Implement a Python program to generate all sentences where subject is in [\"Americans\",\n",
    "\"Indians\"] and verb is in [\"Play\", \"watch\"] and the object is in [\"Baseball\",\"cricket\"].\n",
    "\n",
    "    Hint: Subject,Verb and Object should be declared in the program as shown below.\n",
    "    subjects=[\"Americans \",\"Indians\"]\n",
    "    verbs=[\"play\",\"watch\"]\n",
    "    objects=[\"Baseball\",\"Cricket\"]\n",
    "\n",
    "    Output should come as below:\n",
    "    Americans play Baseball.\n",
    "    Americans play Cricket.\n",
    "    Americans watch Baseball.\n",
    "    Americans watch Cricket.\n",
    "    Indians play Baseball.\n",
    "    Indians play Cricket.\n",
    "    Indians watch Baseball.\n",
    "    Indians watch Cricket."
   ]
  },
  {
   "cell_type": "code",
   "execution_count": 30,
   "metadata": {
    "collapsed": false
   },
   "outputs": [
    {
     "name": "stdout",
     "output_type": "stream",
     "text": [
      "Americans play Baseball\n",
      "Americans play Cricket\n",
      "Americans watch Baseball\n",
      "Americans watch Cricket\n",
      "Indians play Baseball\n",
      "Indians play Cricket\n",
      "Indians watch Baseball\n",
      "Indians watch Cricket\n"
     ]
    }
   ],
   "source": [
    "subjects=['Americans','Indians']\n",
    "verbs=['play','watch']\n",
    "objects=['Baseball','Cricket']\n",
    "for i in subjects:\n",
    "    for j in verbs:\n",
    "        for k in objects:\n",
    "            print(i,j,k)"
   ]
  },
  {
   "cell_type": "markdown",
   "metadata": {},
   "source": [
    "Q.3 Write a function so that the columns of the output matrix are powers of the input vector.\n",
    "The order of the powers is determined by the increasing boolean argument. Specifically, when\n",
    "increasing is False, the i-th output column is the input vector raised element-wise to the power\n",
    "of N - i - 1.\n",
    "\n",
    "    HINT: Such a matrix with a geometric progression in each row is named for Alexandre Theophile Vandermonde."
   ]
  },
  {
   "cell_type": "code",
   "execution_count": 35,
   "metadata": {
    "collapsed": false
   },
   "outputs": [
    {
     "name": "stdout",
     "output_type": "stream",
     "text": [
      "[[ 1  1  1]\n",
      " [ 4  2  1]\n",
      " [ 9  3  1]\n",
      " [25  5  1]]\n"
     ]
    }
   ],
   "source": [
    "import numpy as np\n",
    "def vander(x,N):\n",
    "    k=np.column_stack([x**(N-i-1) for i in range(N)])\n",
    "    print(k)\n",
    "    \n",
    "\n",
    "x = np.array([1, 2, 3, 5])\n",
    "N=3\n",
    "vander(x,N)"
   ]
  }
 ],
 "metadata": {
  "anaconda-cloud": {},
  "kernelspec": {
   "display_name": "Python [default]",
   "language": "python",
   "name": "python3"
  },
  "language_info": {
   "codemirror_mode": {
    "name": "ipython",
    "version": 3
   },
   "file_extension": ".py",
   "mimetype": "text/x-python",
   "name": "python",
   "nbconvert_exporter": "python",
   "pygments_lexer": "ipython3",
   "version": "3.5.6"
  }
 },
 "nbformat": 4,
 "nbformat_minor": 2
}
